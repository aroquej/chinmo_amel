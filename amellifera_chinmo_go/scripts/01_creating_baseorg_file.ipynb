{
 "cells": [
  {
   "cell_type": "markdown",
   "metadata": {},
   "source": [
    "**This script creates a file for the analysis of gene ontology enrichment in transcriptomes of honey bee Apis mellifera. GAF (GO Annotation File) file was download from the NCBI FTP \n",
    "https://ftp.ncbi.nlm.nih.gov/genomes/all/GCF/003/254/395/GCF_003254395.2_Amel_HAv3.1/GCF_003254395.2_Amel_HAv3.1_gene_ontology.gaf.gz .\n",
    "\n",
    "The gene_result.txt file was manually downloaded from NCBI for the taxID 7460, correspondent to the *Apis mellifera* identification code. \n",
    "\n",
    "The script merges the two files and creates a CSV file with the desired columns that is used to create the Org package.**"
   ]
  },
  {
   "cell_type": "code",
   "execution_count": null,
   "metadata": {},
   "outputs": [],
   "source": [
    "# Loading GAF file (assuming it's a tab-separated file with specific columns)\n",
    "gaf_file <- \"../amellifera_chinmo_go/GFA_gene_reports/GCF_003254395.2_Amel_HAv3.1_gene_ontology (1).gaf\"\n",
    "gaf_df <- read.table(\n",
    "  gaf_file, \n",
    "  sep = \"\\t\", \n",
    "  comment.char = \"!\", \n",
    "  header = FALSE, \n",
    "  col.names = c(\n",
    "    \"DB\", \"gene_id\", \"symbol\", \"Qualifier\", \"GO_ID\", \"Reference\", \n",
    "    \"Evidence_Code\", \"With,From\", \"Aspect\", \"gene_name\", \"Gene_Synonym\", \n",
    "    \"Type\", \"Taxon\", \"Date\", \"Assigned_By\", \"Annot_Ext\", \"Gene_Product_Form_ID\"\n",
    "  ),\n",
    "  stringsAsFactors = FALSE\n",
    ")\n",
    "\n",
    "# Loading gene result file (assuming it's a tab-separated file with GeneID and gene_name columns)\n",
    "gene_result_file <- \"../amellifera_chinmo_go/GFA_gene_reports/gene_result.txt\"\n",
    "gene_result_df <- read.table(\n",
    "  gene_result_file, \n",
    "  sep = \"\\t\", \n",
    "  header = TRUE, \n",
    "  colClasses = c(\"character\", \"character\"), # Adjust types as needed\n",
    "  stringsAsFactors = FALSE\n",
    ")\n",
    "\n",
    "# Merge the data based on GeneID\n",
    "merged_df <- merge(gaf_df, gene_result_df, by.x = \"gene_id\", by.y = \"GeneID\", all = FALSE)\n",
    "\n",
    "# Select the desired columns\n",
    "final_df <- merged_df[, c(\"gene_id\", \"gene_name\", \"symbol\", \"GO_ID\", \"chromosome\", \"Evidence_Code\")]\n",
    "\n",
    "# Save the result to a CSV file\n",
    "output_file <- \"../amellifera_chinmo_go/GFA_gene_reports/gene_ontology_results.csv\"\n",
    "write.csv(final_df, file = output_file, row.names = FALSE)\n",
    "\n",
    "cat(sprintf(\"CSV file successfully created at %s\\n\", output_file))"
   ]
  }
 ],
 "metadata": {
  "language_info": {
   "name": "python"
  }
 },
 "nbformat": 4,
 "nbformat_minor": 2
}
